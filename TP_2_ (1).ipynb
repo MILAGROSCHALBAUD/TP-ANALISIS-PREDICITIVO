{
  "nbformat": 4,
  "nbformat_minor": 0,
  "metadata": {
    "colab": {
      "name": "TP 2 .ipynb",
      "provenance": []
    },
    "kernelspec": {
      "name": "ir",
      "display_name": "R"
    },
    "language_info": {
      "name": "R"
    }
  },
  "cells": [
    {
      "cell_type": "code",
      "metadata": {
        "id": "qoU79V9hDTV3"
      },
      "source": [
        "install.packages(\"rpart\")\n",
        "install.packages(\"e1017\")\n",
        "install.packages(\"corrplot\")\n",
        "install.packages(\"caret\")\n",
        "install.packages(\"fastDummies\")\n",
        "install.packages(\"dplyr\")\n",
        "install.packages(\"Hmisc\")\n",
        "install.packages(\"rpart.plot\")"
      ],
      "execution_count": null,
      "outputs": []
    },
    {
      "cell_type": "code",
      "metadata": {
        "id": "_jTVUTlZDVS-"
      },
      "source": [
        "library(ggplot)\n",
        "library(caret)\n",
        "library(data.table)\n",
        "library(class)\n",
        "library(mltools)\n",
        "library(rsample)\n",
        "library(e1071)\n",
        "library(keras)\n",
        "library(dummies)"
      ],
      "execution_count": null,
      "outputs": []
    },
    {
      "cell_type": "code",
      "metadata": {
        "id": "AsKEhlZtDYZs"
      },
      "source": [
        "datos <- read.csv(\"/datos.csv\", header=TRUE ,sep = \",\")"
      ],
      "execution_count": 9,
      "outputs": []
    },
    {
      "cell_type": "code",
      "metadata": {
        "id": "XbTiBZO2Db2n"
      },
      "source": [
        "resultados <-read.csv(\"/resultados.csv\",header=TRUE,sep=\",\")"
      ],
      "execution_count": 6,
      "outputs": []
    },
    {
      "cell_type": "code",
      "metadata": {
        "id": "S4NsoNyuDepw"
      },
      "source": [
        "head(datos)"
      ],
      "execution_count": null,
      "outputs": []
    },
    {
      "cell_type": "code",
      "metadata": {
        "id": "wUJ1Ova0Dkpu"
      },
      "source": [
        "summary(datos)"
      ],
      "execution_count": null,
      "outputs": []
    },
    {
      "cell_type": "code",
      "metadata": {
        "id": "dlf2sF8UDnwF"
      },
      "source": [
        "str(datos)"
      ],
      "execution_count": null,
      "outputs": []
    },
    {
      "cell_type": "code",
      "metadata": {
        "id": "At2jgLTmDrIZ"
      },
      "source": [
        "head(resultados)"
      ],
      "execution_count": null,
      "outputs": []
    },
    {
      "cell_type": "code",
      "metadata": {
        "id": "MgZzF-5mDtli"
      },
      "source": [
        "summary(resultados)"
      ],
      "execution_count": null,
      "outputs": []
    },
    {
      "cell_type": "code",
      "metadata": {
        "id": "KBI8TAcmDwJW"
      },
      "source": [
        "str(resultados)"
      ],
      "execution_count": null,
      "outputs": []
    },
    {
      "cell_type": "code",
      "metadata": {
        "id": "TS6EIgThjKZy"
      },
      "source": [
        "library(ggplot)"
      ],
      "execution_count": null,
      "outputs": []
    },
    {
      "cell_type": "markdown",
      "metadata": {
        "id": "Q4ZfABBAjFOr"
      },
      "source": [
        "Rating según tipo de producción\n"
      ]
    },
    {
      "cell_type": "code",
      "metadata": {
        "id": "5RKPE4ZgjHvy"
      },
      "source": [
        "ggplot(data = datos, aes(x = titleType, y = averageRating, colour = titleType)) +\n",
        " geom_boxplot() + coord_flip()\n"
      ],
      "execution_count": null,
      "outputs": []
    },
    {
      "cell_type": "markdown",
      "metadata": {
        "id": "DnncpjMbjPFY"
      },
      "source": [
        "Rating según tipo de público\n"
      ]
    },
    {
      "cell_type": "code",
      "metadata": {
        "id": "wkAS3fFMjM_N"
      },
      "source": [
        "ggplot(data = datos, aes(x = isAdult, y = averageRating, colour = isAdult)) +\n",
        " geom_boxplot() + coord_flip()\n"
      ],
      "execution_count": null,
      "outputs": []
    },
    {
      "cell_type": "markdown",
      "metadata": {
        "id": "6DzG4Oi7jSn0"
      },
      "source": [
        "Rating según año de inicio\n"
      ]
    },
    {
      "cell_type": "code",
      "metadata": {
        "id": "-eGrSUiWjU45"
      },
      "source": [
        "ggplot(data = datos, aes(x = startYear, y = averageRating, colour = startYear)) +\n",
        " geom_jitter() + coord_flip()\n"
      ],
      "execution_count": null,
      "outputs": []
    },
    {
      "cell_type": "markdown",
      "metadata": {
        "id": "829XkmgajXu9"
      },
      "source": [
        "Rating segun año de finalización\n"
      ]
    },
    {
      "cell_type": "code",
      "metadata": {
        "id": "ytXHroSijbUJ"
      },
      "source": [
        "ggplot(data = datos, aes(x = endYear, y = averageRating, colour = endYear)) +\n",
        " geom_jitter() + coord_flip()\n"
      ],
      "execution_count": null,
      "outputs": []
    },
    {
      "cell_type": "markdown",
      "metadata": {
        "id": "QQ99MnrEjeFk"
      },
      "source": [
        "Rating según tiempo de duración"
      ]
    },
    {
      "cell_type": "code",
      "metadata": {
        "id": "dxjDIK9AjgeR"
      },
      "source": [
        "ggplot(data = datos, aes(x = runtimeMinutes, y = averageRating, colour = runtimeMinutes)) +\n",
        " geom_jitter() + coord_flip()\n"
      ],
      "execution_count": null,
      "outputs": []
    },
    {
      "cell_type": "markdown",
      "metadata": {
        "id": "cABETDtijj2q"
      },
      "source": [
        "Rating según género de la producción"
      ]
    },
    {
      "cell_type": "code",
      "metadata": {
        "id": "y07Z4VT3jm0T"
      },
      "source": [
        "ggplot(data = datos, aes(x = genres_x, y = averageRating, colour = genres_x)) +\n",
        " geom_boxplot() + coord_flip()\n"
      ],
      "execution_count": null,
      "outputs": []
    },
    {
      "cell_type": "markdown",
      "metadata": {
        "id": "PwgFBSGED14F"
      },
      "source": [
        "Separo las variables genero ,director ,writers"
      ]
    },
    {
      "cell_type": "code",
      "metadata": {
        "id": "RwwfVkZhDykz"
      },
      "source": [
        "library(tidyr)\n",
        "datos <- separate_rows(datos[,1:10], genres_x, sep = \",\")\n",
        "datos <- na.omit(datos)\n",
        "datos <- separate_rows(datos, directors, sep = \",\")\n",
        "datos <- na.omit(datos)\n",
        "datos <- separate_rows(datos, writers, sep = \",\")\n",
        "datos <- na.omit(datos)"
      ],
      "execution_count": 7,
      "outputs": []
    },
    {
      "cell_type": "code",
      "metadata": {
        "id": "mP4HSCCzD6hO"
      },
      "source": [
        "mean(is.na(datos$popularity))\n",
        "mean(is.na(datos$runtime))\n",
        "mean(is.na(datos$budget))\n",
        "mean(is.na(datos$revenue))\n",
        "mean(is.na(datos$isOriginalTitle))\n",
        "mean(is.na(datos$ordering))\n",
        "mean(is.na(datos$numvotes))\n",
        "mean(is.na(datos$isAdult))"
      ],
      "execution_count": null,
      "outputs": []
    },
    {
      "cell_type": "code",
      "metadata": {
        "id": "jbLsSOC1D_dX"
      },
      "source": [
        "table(datos$seasonNumber)\n",
        "datos$seasonNumber[datos$seasonNumber == \"\"] <- \"\\\\N\"\n",
        "datos$seasonNumber=as.numeric(datos$seasonNumber)\n",
        "datos$seasonNumber[is.na(datos$seasonNumber)]=median(datos$seasonNumber,na.rm=TRUE)"
      ],
      "execution_count": null,
      "outputs": []
    },
    {
      "cell_type": "code",
      "metadata": {
        "id": "yCHIS3-KED8O"
      },
      "source": [
        "table(datos$titleType)\n",
        "datos$titleType[datos$titleType == \"\"] <- \"movie\""
      ],
      "execution_count": null,
      "outputs": []
    },
    {
      "cell_type": "code",
      "metadata": {
        "id": "Y68q_eMJEGhP"
      },
      "source": [
        "table(datos$isAdult)\n",
        "datos$isAdult[datos$isAdult == \"2020\"] <- \"0\"\n",
        "datos$isAdult[is.na(datos$isAdult)]<-\"0\""
      ],
      "execution_count": null,
      "outputs": []
    },
    {
      "cell_type": "code",
      "metadata": {
        "id": "y8OpPi_4EJjT"
      },
      "source": [
        "table(datos$startYear)\n",
        "datos$startYear[datos$startYear == \"\"] <- \"\\\\N\"\n",
        "datos$startYear<-as.numeric(datos$startYear)\n",
        "datos$startYear[is.na(datos$startYear)]=median(datos$startYear,na.rm=TRUE)"
      ],
      "execution_count": null,
      "outputs": []
    },
    {
      "cell_type": "code",
      "metadata": {
        "id": "bHrfRQoyENL5"
      },
      "source": [
        "table(datos$episodeNumber)\n",
        "datos$episodeNumber[datos$episodeNumber == \"\"] <- \"\\\\N\"\n",
        "datos$episodeNumber<-as.numeric(datos$episodeNumber)\n",
        "datos$episodeNumber[is.na(datos$episodeNumber)]= median(datos$episodeNumber,na.rm=TRUE)"
      ],
      "execution_count": null,
      "outputs": []
    },
    {
      "cell_type": "code",
      "metadata": {
        "id": "01Xzdf5uEP-e"
      },
      "source": [
        "table(datos$runtimeMinutes)\n",
        "datos$runtimeMinutes[datos$runtimeMinutes == \"\"] <- \"\\\\N\"\n",
        "datos$runtimeMinutes=as.numeric(datos$runtimeMinutes)\n",
        "datos$runtimeMinutes[is.na(datos$runtimeMinutes)]=median(datos$runtimeMinutes,na.rm=TRUE)"
      ],
      "execution_count": null,
      "outputs": []
    },
    {
      "cell_type": "code",
      "metadata": {
        "id": "5yMSjAooETGQ"
      },
      "source": [
        "datos$language=NULL\n",
        "datos$runtime=NULL\n",
        "datos$budget=NULL\n",
        "datos$popularity=NULL\n",
        "datos$revenue=NULL\n",
        "datos$isOriginalTitle=NULL\n",
        "datos$overview=NULL\n",
        "datos$production_companies=NULL\n",
        "datos$production_countries=NULL\n",
        "datos$release_date=NULL\n",
        "datos$genres_y=NULL\n",
        "datos$original_language=NULL\n",
        "datos$attributes=NULL\n",
        "datos$runtime=NULL \n",
        "datos$status=NULL\n",
        "datos$video=NULL\n",
        "datos$tagline=NULL\n",
        "datos$adult=NULL\n",
        "datos$types=NULL\n",
        "datos$ordering=NULL\n",
        "datos$endYear=NULL\n",
        "datos$directors=NULL\n",
        "datos$writers=NULL\n",
        "datos$seasonNumber=NULL\n",
        "datos$episodeNumber=NULL\n",
        "datos$isAdult=NULL\n",
        "datos$genres_x=NULL"
      ],
      "execution_count": 17,
      "outputs": []
    },
    {
      "cell_type": "code",
      "metadata": {
        "id": "oT1d4wszEWwG"
      },
      "source": [
        "datos$startYear <- as.numeric(datos$startYear) \n",
        "datos$runtimeMinutes <- as.numeric(datos$runtimeMinutes)"
      ],
      "execution_count": 18,
      "outputs": []
    },
    {
      "cell_type": "code",
      "metadata": {
        "id": "VR1Gfe0bEZ19"
      },
      "source": [
        "str(datos)"
      ],
      "execution_count": null,
      "outputs": []
    },
    {
      "cell_type": "code",
      "metadata": {
        "id": "rIQ6nJtqEcG5"
      },
      "source": [
        "library(Hmisc)\n",
        "datos.rcorr = rcorr(as.matrix(datos[,c(1,2,4,5)]))"
      ],
      "execution_count": null,
      "outputs": []
    },
    {
      "cell_type": "code",
      "metadata": {
        "id": "j4MoZBnQEgNG"
      },
      "source": [
        "library(corrplot)\n",
        "library(RColorBrewer)\n",
        "corrplot(datos.rcorr$r, type = \"upper\", order = \"hclust\",\n",
        "         col = brewer.pal(n = 9, name = \"PuOr\"), addCoef.col = \"black\", bg = \"darkgreen\")"
      ],
      "execution_count": null,
      "outputs": []
    },
    {
      "cell_type": "code",
      "metadata": {
        "id": "RiJY20YvEjA3"
      },
      "source": [
        "library(tidyr)\n",
        "datos <- separate_rows(resultados[,1:10], genres_x, sep = \",\")\n",
        "datos <- na.omit(resultados)"
      ],
      "execution_count": null,
      "outputs": []
    },
    {
      "cell_type": "code",
      "metadata": {
        "id": "h7ZknvRtEmOG"
      },
      "source": [
        "table(resultados$titleType)\n",
        "resultados$titleType[resultados$titleType == \"\"] <- \"movie\""
      ],
      "execution_count": null,
      "outputs": []
    },
    {
      "cell_type": "code",
      "metadata": {
        "id": "t1TncxFcEpv2"
      },
      "source": [
        "table(resultados$isAdult)\n",
        "resultados$isAdult[resultados$isAdult == \"2014\"] <- \"0\"\n",
        "resultados$isAdult[is.na(resultados$isAdult)]<-\"0\""
      ],
      "execution_count": null,
      "outputs": []
    },
    {
      "cell_type": "code",
      "metadata": {
        "id": "7TGWHNVDEtCi"
      },
      "source": [
        "table(resultados$startYear)\n",
        "resultados$startYear[resultados$startYear == \"\"] <- \"\\\\N\"\n",
        "resultados$startYear<-as.numeric(resultados$startYear)\n",
        "resultados$startYear[is.na(resultados$startYear)]=median(resultados$startYear,na.rm=TRUE)"
      ],
      "execution_count": null,
      "outputs": []
    },
    {
      "cell_type": "code",
      "metadata": {
        "id": "VYYtJ9HQEwgU"
      },
      "source": [
        "table(resultados$runtimeMinutes)\n",
        "resultados$runtimeMinutes[resultados$runtimeMinutes == \"\"] <- \"\\\\N\"\n",
        "resultados$runtimeMinutes=as.numeric(resultados$runtimeMinutes)\n",
        "resultados$runtimeMinutes[is.na(resultados$runtimeMinutes)]=median(resultados$runtimeMinutes,na.rm=TRUE)"
      ],
      "execution_count": null,
      "outputs": []
    },
    {
      "cell_type": "code",
      "metadata": {
        "id": "Nwn0vmmaEz9S"
      },
      "source": [
        "resultados$language=NULL\n",
        "resultados$runtime=NULL\n",
        "resultados$budget=NULL\n",
        "resultados$popularity=NULL\n",
        "resultados$revenue=NULL\n",
        "resultados$isOriginalTitle=NULL\n",
        "resultados$overview=NULL\n",
        "resultados$production_companies=NULL\n",
        "resultados$production_countries=NULL\n",
        "resultados$release_date=NULL\n",
        "resultados$genres_y=NULL\n",
        "resultados$original_language=NULL\n",
        "resultados$attributes=NULL\n",
        "resultados$runtime=NULL \n",
        "resultados$status=NULL\n",
        "resultados$video=NULL\n",
        "resultados$tagline=NULL\n",
        "resultados$adult=NULL\n",
        "resultados$types=NULL\n",
        "resultados$ordering=NULL\n",
        "resultados$endYear=NULL\n",
        "resultados$directors=NULL\n",
        "resultados$writers=NULL\n",
        "resultados$isAdult=NULL\n",
        "resultados$genres_x= NULL\n",
        "resultados$seasonNumber=NULL\n",
        "resultados$episodeNumber=NULL"
      ],
      "execution_count": 24,
      "outputs": []
    },
    {
      "cell_type": "code",
      "metadata": {
        "id": "b01l46xoE30y"
      },
      "source": [
        "str(resultados)"
      ],
      "execution_count": null,
      "outputs": []
    },
    {
      "cell_type": "code",
      "metadata": {
        "id": "-YaW-HFdE6d0"
      },
      "source": [
        "library(dplyr)\n",
        "datos %>%\n",
        "mutate_if(is.numeric,scale)\n",
        "\n",
        "resultados %>%\n",
        "mutate_if(is.numeric,scale)"
      ],
      "execution_count": null,
      "outputs": []
    },
    {
      "cell_type": "markdown",
      "metadata": {
        "id": "4634wgB0FFII"
      },
      "source": [
        "REGRESION LINEAL"
      ]
    },
    {
      "cell_type": "code",
      "metadata": {
        "id": "V1--DYpCFEHa"
      },
      "source": [
        "regression <- lm(averageRating ~ log(numVotes) + titleType + runtimeMinutes  + startYear, data=datos)\n",
        "summary(regression)"
      ],
      "execution_count": null,
      "outputs": []
    },
    {
      "cell_type": "markdown",
      "metadata": {
        "id": "tuCOtMY4FaF4"
      },
      "source": [
        "MODELO 1"
      ]
    },
    {
      "cell_type": "code",
      "metadata": {
        "id": "c12PsKyvFXiq"
      },
      "source": [
        "library(caret)\n",
        "set.seed(454);particion=createDataPartition(y=datos$averageRating,p=0.3,list=FALSE)\n",
        "entrenar=datos[particion,]\n",
        "test=datos[-particion,]"
      ],
      "execution_count": 29,
      "outputs": []
    },
    {
      "cell_type": "code",
      "metadata": {
        "id": "YLu3kYefFlR1"
      },
      "source": [
        "library(rpart)\n",
        "arbol=rpart(averageRating~.,entrenar)\n",
        "pred=predict(arbol,test)\n",
        "ECMA=mean((pred-test$averageRating)^2)"
      ],
      "execution_count": 30,
      "outputs": []
    },
    {
      "cell_type": "code",
      "metadata": {
        "id": "2A-hd6zrFn2P"
      },
      "source": [
        "library(rpart.plot)\n",
        "rpart.plot(arbol)"
      ],
      "execution_count": null,
      "outputs": []
    },
    {
      "cell_type": "markdown",
      "metadata": {
        "id": "L0LYipLEFtlZ"
      },
      "source": [
        "MODELO 2"
      ]
    },
    {
      "cell_type": "code",
      "metadata": {
        "id": "srbjA5WYFu33"
      },
      "source": [
        "library(caret)\n",
        "set.seed(454); particion = createDataPartition(y = datos$averageRating, p = 0.4, list=FALSE)\n",
        "entrenar2 = datos[particion,]\n",
        "test2 = datos[-particion,]"
      ],
      "execution_count": null,
      "outputs": []
    },
    {
      "cell_type": "code",
      "metadata": {
        "id": "Fb5XKeJDFz_8"
      },
      "source": [
        "library(e1017)\n",
        "modelo2 = svm(averageRating~., entrenar2)"
      ],
      "execution_count": null,
      "outputs": []
    },
    {
      "cell_type": "code",
      "metadata": {
        "id": "22_aDofNF08n"
      },
      "source": [
        "pred2 = predict(modelo2, redsultados)"
      ],
      "execution_count": null,
      "outputs": []
    },
    {
      "cell_type": "markdown",
      "metadata": {
        "id": "FQO0eK-cF9si"
      },
      "source": [
        "PARTE FINAL"
      ]
    },
    {
      "cell_type": "code",
      "metadata": {
        "id": "HmMGIGgWGA6y"
      },
      "source": [
        "resultados2 = read.csv(\"/resultados.csv\", header=TRUE, sep=\",\")"
      ],
      "execution_count": 33,
      "outputs": []
    },
    {
      "cell_type": "code",
      "metadata": {
        "id": "nqlaJ5GcGD0c"
      },
      "source": [
        "final <- data.frame(predict(arbol, resultados))"
      ],
      "execution_count": 35,
      "outputs": []
    },
    {
      "cell_type": "code",
      "metadata": {
        "id": "7wmh-AnLGG9U"
      },
      "source": [
        "names(final)[1] = \"averageRating\"\n",
        "final$'id'<- resultados2$id"
      ],
      "execution_count": 36,
      "outputs": []
    },
    {
      "cell_type": "code",
      "metadata": {
        "id": "HipQxggVGJ7J"
      },
      "source": [
        "write.csv(final, file = \"AnalisisPredictivoChalbaud.csv\", row.names = F)"
      ],
      "execution_count": 38,
      "outputs": []
    }
  ]
}