{
  "nbformat": 4,
  "nbformat_minor": 0,
  "metadata": {
    "colab": {
      "name": "FINAL TP SUBIR.ipynb",
      "provenance": [],
      "mount_file_id": "15Im4NJEKBASkpvYx56z25Kw5qso1ZMkf",
      "authorship_tag": "ABX9TyOVUJM/jySdrt1hBASAq3il",
      "include_colab_link": true
    },
    "kernelspec": {
      "name": "python3",
      "display_name": "Python 3"
    },
    "language_info": {
      "name": "python"
    }
  },
  "cells": [
    {
      "cell_type": "markdown",
      "metadata": {
        "id": "view-in-github",
        "colab_type": "text"
      },
      "source": [
        "<a href=\"https://colab.research.google.com/github/MILAGROSCHALBAUD/TP-ANALISIS-PREDICITIVO/blob/main/FINAL_TP_SUBIR.ipynb\" target=\"_parent\"><img src=\"https://colab.research.google.com/assets/colab-badge.svg\" alt=\"Open In Colab\"/></a>"
      ]
    },
    {
      "cell_type": "code",
      "metadata": {
        "id": "0ksprddhPLff"
      },
      "source": [
        "#paquetes a usar\n",
        "import pandas as pd\n",
        "import pandas as pan\n",
        "import numpy as np\n",
        "from sklearn.model_selection import train_test_split, RandomizedSearchCV, GridSearchCV\n",
        "from sklearn.ensemble import RandomForestRegressor, ExtraTreesRegressor\n",
        "from sklearn.metrics import accuracy_score, mean_absolute_error\n",
        "from sklearn import preprocessing\n",
        "from sklearn.metrics import r2_score\n",
        "from sklearn.preprocessing import scale"
      ],
      "execution_count": null,
      "outputs": []
    },
    {
      "cell_type": "code",
      "metadata": {
        "id": "to-WGLk7PTIh",
        "colab": {
          "base_uri": "https://localhost:8080/"
        },
        "outputId": "6849d51a-4924-4539-893b-69983c4ace97"
      },
      "source": [
        "#pido permiso a colab\n",
        "from google.colab import drive\n",
        "drive.mount(\"/content/drive\")"
      ],
      "execution_count": null,
      "outputs": [
        {
          "output_type": "stream",
          "name": "stdout",
          "text": [
            "Drive already mounted at /content/drive; to attempt to forcibly remount, call drive.mount(\"/content/drive\", force_remount=True).\n"
          ]
        }
      ]
    },
    {
      "cell_type": "code",
      "metadata": {
        "id": "tbdo2JQXPrsU"
      },
      "source": [
        "df_test = pd.read_csv(\"/content/drive/MyDrive/Colab Notebooks/TEST1.csv\" ,sep=';',  error_bad_lines=False)"
      ],
      "execution_count": null,
      "outputs": []
    },
    {
      "cell_type": "code",
      "metadata": {
        "id": "oDuI0kg-P2MC"
      },
      "source": [
        "df_test.info()"
      ],
      "execution_count": null,
      "outputs": []
    },
    {
      "cell_type": "code",
      "metadata": {
        "id": "r-AforNCPWCH"
      },
      "source": [
        "df_train = pd.read_csv(\"/content/drive/MyDrive/Colab Notebooks/ENTRENAR1.csv\",sep=';',  error_bad_lines=False)"
      ],
      "execution_count": null,
      "outputs": []
    },
    {
      "cell_type": "code",
      "metadata": {
        "id": "PuAkBbN9P4rZ"
      },
      "source": [
        "df_train.info()"
      ],
      "execution_count": null,
      "outputs": []
    },
    {
      "cell_type": "code",
      "metadata": {
        "id": "PVPxbixnP7UK"
      },
      "source": [
        "df_result = pd.read_csv(\"/content/drive/MyDrive/Colab Notebooks/RESULTADO1.csv\",sep=\";\")"
      ],
      "execution_count": null,
      "outputs": []
    },
    {
      "cell_type": "code",
      "metadata": {
        "id": "pToJw06vY4UC"
      },
      "source": [
        "resultado=df_result[[\"numVotes\",\"isAdult\",\"runtimeMinutes\",\"startYear\",\"seasonNumber\",\"episodeNumber\",\"isOriginalTitle\",\"tvEpisode\",\"movie\",\"tvMovie\",\"short\",\"tvSeries\",\"tvShort\",\"tvMiniSeries\",\"tvSpecial\",\"videogame\",\"directortop\",\"directorloser\",\"writertop\",\"writerloser\",\"generotop\",\"generoloser\"]]"
      ],
      "execution_count": null,
      "outputs": []
    },
    {
      "cell_type": "code",
      "metadata": {
        "id": "NV9F4SHsQFt1"
      },
      "source": [
        "df_result.info()"
      ],
      "execution_count": null,
      "outputs": []
    },
    {
      "cell_type": "code",
      "metadata": {
        "id": "6zhYtPVnQWYW"
      },
      "source": [
        "#trabajo con train"
      ],
      "execution_count": null,
      "outputs": []
    },
    {
      "cell_type": "code",
      "metadata": {
        "id": "R2FWcq24QJo4"
      },
      "source": [
        "y_train=df_train[\"averageRating\"]"
      ],
      "execution_count": null,
      "outputs": []
    },
    {
      "cell_type": "code",
      "metadata": {
        "id": "bSPc44QGQM7G"
      },
      "source": [
        "x_train=df_train[[\"numVotes\",\"isAdult\",\"runtimeMinutes\",\"startYear\",\"seasonNumber\",\"episodeNumber\",\"isOriginalTitle\",\"tvEpisode\",\"movie\",\"tvMovie\",\"short\",\"tvSeries\",\"tvShort\",\"tvMiniSeries\",\"tvSpecial\",\"videogame\",\"directortop\",\"directorloser\",\"writertop\",\"writerloser\",\"generotop\",\"generoloser\"]]"
      ],
      "execution_count": null,
      "outputs": []
    },
    {
      "cell_type": "code",
      "metadata": {
        "id": "CMLFcj5-QTp0"
      },
      "source": [
        "#trabajo con test"
      ],
      "execution_count": null,
      "outputs": []
    },
    {
      "cell_type": "code",
      "metadata": {
        "id": "HM8v7wb0QQmG"
      },
      "source": [
        "y_test=df_test['averageRating']"
      ],
      "execution_count": null,
      "outputs": []
    },
    {
      "cell_type": "code",
      "metadata": {
        "id": "th2Haj0kQY27"
      },
      "source": [
        "x_test=df_test[[\"numVotes\",\"isAdult\",\"runtimeMinutes\",\"startYear\",\"seasonNumber\",\"episodeNumber\",\"isOriginalTitle\",\"tvEpisode\",\"movie\",\"tvMovie\",\"short\",\"tvSeries\",\"tvShort\",\"tvMiniSeries\",\"tvSpecial\",\"videogame\",\"directortop\",\"directorloser\",\"writertop\",\"writerloser\",\"generotop\",\"generoloser\"]]"
      ],
      "execution_count": null,
      "outputs": []
    },
    {
      "cell_type": "code",
      "metadata": {
        "colab": {
          "base_uri": "https://localhost:8080/"
        },
        "id": "Y-dnLh3aQc0t",
        "outputId": "923d1c1d-c5d8-407f-fed9-112b92c675ff"
      },
      "source": [
        "forest = RandomForestRegressor(n_estimators=300,max_depth=100,max_leaf_nodes=10000,oob_score=True,min_samples_split=12) \n",
        "forest.fit(x_train, y_train)"
      ],
      "execution_count": null,
      "outputs": [
        {
          "output_type": "execute_result",
          "data": {
            "text/plain": [
              "RandomForestRegressor(bootstrap=True, ccp_alpha=0.0, criterion='mse',\n",
              "                      max_depth=100, max_features='auto', max_leaf_nodes=10000,\n",
              "                      max_samples=None, min_impurity_decrease=0.0,\n",
              "                      min_impurity_split=None, min_samples_leaf=1,\n",
              "                      min_samples_split=12, min_weight_fraction_leaf=0.0,\n",
              "                      n_estimators=300, n_jobs=None, oob_score=True,\n",
              "                      random_state=None, verbose=0, warm_start=False)"
            ]
          },
          "metadata": {},
          "execution_count": 11
        }
      ]
    },
    {
      "cell_type": "code",
      "metadata": {
        "id": "xbFGDpo1Qgcf"
      },
      "source": [
        "y_pred_test=forest.predict(x_test)"
      ],
      "execution_count": null,
      "outputs": []
    },
    {
      "cell_type": "code",
      "metadata": {
        "colab": {
          "base_uri": "https://localhost:8080/"
        },
        "id": "fcIc4BhiQjUt",
        "outputId": "27789ecd-70e8-4e01-9e6f-45cde5be5e24"
      },
      "source": [
        "r2_score(y_test,y_pred_test)"
      ],
      "execution_count": null,
      "outputs": [
        {
          "output_type": "execute_result",
          "data": {
            "text/plain": [
              "0.32207535359516726"
            ]
          },
          "metadata": {},
          "execution_count": 13
        }
      ]
    },
    {
      "cell_type": "code",
      "metadata": {
        "colab": {
          "base_uri": "https://localhost:8080/"
        },
        "id": "nM_OKiS6QmCt",
        "outputId": "a3db004d-985a-40d2-b58c-fff6591ec71f"
      },
      "source": [
        "extratree = ExtraTreesRegressor(max_depth=2000,max_leaf_nodes=1000,bootstrap=True,oob_score=True, min_samples_split=12)\n",
        "extratree.fit(x_train,y_train)"
      ],
      "execution_count": null,
      "outputs": [
        {
          "output_type": "execute_result",
          "data": {
            "text/plain": [
              "ExtraTreesRegressor(bootstrap=True, ccp_alpha=0.0, criterion='mse',\n",
              "                    max_depth=2000, max_features='auto', max_leaf_nodes=1000,\n",
              "                    max_samples=None, min_impurity_decrease=0.0,\n",
              "                    min_impurity_split=None, min_samples_leaf=1,\n",
              "                    min_samples_split=12, min_weight_fraction_leaf=0.0,\n",
              "                    n_estimators=100, n_jobs=None, oob_score=True,\n",
              "                    random_state=None, verbose=0, warm_start=False)"
            ]
          },
          "metadata": {},
          "execution_count": 15
        }
      ]
    },
    {
      "cell_type": "code",
      "metadata": {
        "colab": {
          "base_uri": "https://localhost:8080/"
        },
        "id": "gNCvw-ZhQotL",
        "outputId": "6f3fffa1-cc55-491f-c7df-5ad895ae08af"
      },
      "source": [
        "y_pred_extra=extratree.predict(x_test)\n",
        "r2_score(y_test,y_pred_extra)"
      ],
      "execution_count": null,
      "outputs": [
        {
          "output_type": "execute_result",
          "data": {
            "text/plain": [
              "0.2645972278125518"
            ]
          },
          "metadata": {},
          "execution_count": 17
        }
      ]
    },
    {
      "cell_type": "code",
      "metadata": {
        "id": "SO5GIyd4X_M4"
      },
      "source": [
        "predforest = forest.predict(resultado)"
      ],
      "execution_count": null,
      "outputs": []
    },
    {
      "cell_type": "code",
      "metadata": {
        "id": "if9E8v7BZNbs"
      },
      "source": [
        "salida = pd.DataFrame(data={\"averageRating\": predforest}).astype(str)\n",
        "salida.index = df_result.id\n",
        "salida.to_csv(\"randomForest.csv\", sep=',',index=True,  index_label='id')"
      ],
      "execution_count": null,
      "outputs": []
    }
  ]
}