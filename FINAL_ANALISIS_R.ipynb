{
  "nbformat": 4,
  "nbformat_minor": 0,
  "metadata": {
    "colab": {
      "name": "FINAL ANALISIS R.ipynb",
      "provenance": [],
      "authorship_tag": "ABX9TyPYwSUulX60LeUc83w84XpW",
      "include_colab_link": true
    },
    "kernelspec": {
      "display_name": "R",
      "name": "ir"
    },
    "language_info": {
      "name": "R"
    }
  },
  "cells": [
    {
      "cell_type": "markdown",
      "metadata": {
        "id": "view-in-github",
        "colab_type": "text"
      },
      "source": [
        "<a href=\"https://colab.research.google.com/github/MILAGROSCHALBAUD/TP-ANALISIS-PREDICITIVO/blob/main/FINAL_ANALISIS_R.ipynb\" target=\"_parent\"><img src=\"https://colab.research.google.com/assets/colab-badge.svg\" alt=\"Open In Colab\"/></a>"
      ]
    },
    {
      "cell_type": "code",
      "metadata": {
        "id": "kXg3Ve05vmAf"
      },
      "source": [
        "#instalo paquetes que necesito\n",
        "install.packages(\"rpart\")\n",
        "install.packages(\"corrplot\")\n",
        "install.packages(\"caret\")\n",
        "install.packages(\"fastDummies\")\n",
        "install.packages(\"dplyr\")\n",
        "install.packages(\"Hmisc\")\n",
        "install.packages(\"rpart.plot\")\n",
        "install.packages(\"ggplot2\")\n",
        "install.packages(\"funModeling\")"
      ],
      "execution_count": null,
      "outputs": []
    },
    {
      "cell_type": "code",
      "metadata": {
        "id": "tHHs_dmLvrhe"
      },
      "source": [
        "library(dplyr)\n",
        "library(funModeling)\n",
        "library(ggplot2)\n",
        "library(tidyverse)"
      ],
      "execution_count": null,
      "outputs": []
    },
    {
      "cell_type": "code",
      "metadata": {
        "id": "SJfeIsTUvuPk"
      },
      "source": [
        "#leo bases de datos\n",
        "datos <- read.csv(\"datos.csv\",header=TRUE,sep = \",\")\n",
        "resultados <-read.csv(\"resultados.csv\",header=TRUE,sep=\",\")"
      ],
      "execution_count": null,
      "outputs": []
    },
    {
      "cell_type": "code",
      "metadata": {
        "id": "9KR89ZcVvw8g"
      },
      "source": [
        "#veo bases de datos\n",
        "str(datos)\n",
        "str(resultados)"
      ],
      "execution_count": null,
      "outputs": []
    },
    {
      "cell_type": "code",
      "metadata": {
        "id": "_dZXZsPtv8Ci"
      },
      "source": [
        "#como calculo el promedio de numVotes para establacer como filtro\n",
        "#prom=sum(datos$numVotes)/\n",
        "#missings totales\n",
        "#library(mice)\n",
        "#md.pattern(datos, rotate.names=90)\n",
        "#md.pattern(datos,plot=TRUE, rotate.names=FALSE)"
      ],
      "execution_count": null,
      "outputs": []
    },
    {
      "cell_type": "code",
      "metadata": {
        "id": "9_8nmrumizoU"
      },
      "source": [
        "ggplot(data = datos, aes(x = titleType, y = averageRating, colour = titleType)) +\n",
        "  geom_boxplot() + coord_flip()\n"
      ],
      "execution_count": null,
      "outputs": []
    },
    {
      "cell_type": "code",
      "metadata": {
        "id": "79ktrlZ9i_xN"
      },
      "source": [
        "ggplot(data = datos, aes(x = directors, y = averageRating, colour = directors)) +\n",
        "  geom_boxplot() + coord_flip()\n"
      ],
      "execution_count": null,
      "outputs": []
    },
    {
      "cell_type": "code",
      "metadata": {
        "id": "-3b5RMW3kBH6"
      },
      "source": [
        "ggplot(data = datos, aes(x = genres_x, y = averageRating, colour = genres_x)) +\n",
        "  geom_boxplot() + coord_flip()"
      ],
      "execution_count": null,
      "outputs": []
    },
    {
      "cell_type": "code",
      "metadata": {
        "id": "FEF2pWSvuC-y"
      },
      "source": [
        "ggplot(data = datos, aes(x = startYear, y = averageRating, colour = startYear)) +\n",
        "  geom_jitter() + coord_flip()"
      ],
      "execution_count": null,
      "outputs": []
    },
    {
      "cell_type": "code",
      "metadata": {
        "id": "4f999i9nuFCF"
      },
      "source": [
        "ggplot(data = datos, aes(x = endYear, y = averageRating, colour = endYear)) +\n",
        "  geom_jitter() + coord_flip()"
      ],
      "execution_count": null,
      "outputs": []
    },
    {
      "cell_type": "code",
      "metadata": {
        "id": "yfu5j9dQv81U"
      },
      "source": [
        "#analizo missings de numericas\n",
        "mean(is.na(datos$averageRating))\n",
        "mean(is.na(datos$popularity))\n",
        "mean(is.na(datos$runtime))\n",
        "mean(is.na(datos$budget))\n",
        "mean(is.na(datos$revenue))\n",
        "mean(is.na(datos$isOriginalTitle))\n",
        "mean(is.na(datos$ordering))\n",
        "mean(is.na(datos$numVotes))"
      ],
      "execution_count": null,
      "outputs": []
    },
    {
      "cell_type": "code",
      "metadata": {
        "id": "fV_MVxE3wAq8"
      },
      "source": [
        "#completo los NA con ceros para aquellas variables con mas del 63 % de missings (no las uso en el modelo)\n",
        "datos$popularity[is.na(datos$popularity)]=0\n",
        "datos$runtime[is.na(datos$runtime)]=0\n",
        "datos$budget[is.na(datos$budget)]=0\n",
        "datos$revenue[is.na(datos$revenue)]=0\n"
      ],
      "execution_count": null,
      "outputs": []
    },
    {
      "cell_type": "code",
      "metadata": {
        "id": "ZmcXMhNDwDG5"
      },
      "source": [
        "#completo los NA con la media para aquellas variables con menos del 63% de missings\n",
        "datos$isOriginalTitle <- ifelse(is.na(datos$isOriginalTitle),1,datos$isOriginalTitle)\n",
        "datos$ordering[is.na(datos$ordering)]=mean(datos$ordering,na.rm=TRUE)\n"
      ],
      "execution_count": null,
      "outputs": []
    },
    {
      "cell_type": "code",
      "metadata": {
        "id": "hgM-jOtWwF6Z",
        "colab": {
          "base_uri": "https://localhost:8080/"
        },
        "outputId": "b72e198a-a3ae-48c0-9dbb-8c7e1ce0fa60"
      },
      "source": [
        "#trabajo con isAdult\n",
        "datos$isAdult[datos$isAdult == \"2020\"] <- \"0\"\n",
        "datos$isAdult <- ifelse(is.na(datos$isAdult),0,datos$isAdult)\n",
        "datos$isAdult <- as.factor(datos$isAdult)\n",
        "str(datos$isAdult)"
      ],
      "execution_count": null,
      "outputs": [
        {
          "output_type": "stream",
          "name": "stdout",
          "text": [
            " Factor w/ 2 levels \"0\",\"1\": 1 1 1 1 1 1 1 1 1 1 ...\n"
          ]
        }
      ]
    },
    {
      "cell_type": "code",
      "metadata": {
        "id": "CUv8Ih_EwJGj"
      },
      "source": [
        "#compruebo que se hayan cambiado lo NA.... esto lo puedo borrar\n",
        "mean(is.na(datos$popularity))\n",
        "mean(is.na(datos$runtime))\n",
        "mean(is.na(datos$budget))\n",
        "mean(is.na(datos$revenue))\n",
        "mean(is.na(datos$isOriginalTitle))\n",
        "mean(is.na(datos$ordering))\n",
        "mean(is.na(datos$numvotes))"
      ],
      "execution_count": null,
      "outputs": []
    },
    {
      "cell_type": "code",
      "metadata": {
        "id": "1_j_qMuKwO66"
      },
      "source": [
        "#trabajo con seasonNumber\n",
        "#table(datos$seasonNumber)\n",
        "datos$seasonNumber[datos$seasonNumber == \"\"] <- NA\n",
        "datos$seasonNumber=as.numeric(datos$seasonNumber)\n",
        "datos$seasonNumber[is.na(datos$seasonNumber)]=median(datos$seasonNumber,na.rm=TRUE)\n",
        "str(datos$seasonNumber)"
      ],
      "execution_count": null,
      "outputs": []
    },
    {
      "cell_type": "code",
      "metadata": {
        "id": "ajsT3_do5i4O"
      },
      "source": [
        "#datos$seasonNumber=as.numeric(datos$seasonNumber)\n",
        "#datos$seasonNumber[is.na(datos$seasonNumber)]=median(datos$seasonNumber,na.rm=TRUE)\n",
        "#str(datos$seasonNumber)"
      ],
      "execution_count": null,
      "outputs": []
    },
    {
      "cell_type": "code",
      "metadata": {
        "colab": {
          "base_uri": "https://localhost:8080/",
          "height": 35
        },
        "id": "TkwbMtDLEIpX",
        "outputId": "33ee1360-afa8-4dcd-fe08-e4eb60bd1166"
      },
      "source": [
        "mean(is.na(datos$seasonNumber))"
      ],
      "execution_count": null,
      "outputs": [
        {
          "output_type": "display_data",
          "data": {
            "text/plain": [
              "[1] 0"
            ],
            "text/latex": "0",
            "text/markdown": "0",
            "text/html": [
              "0"
            ]
          },
          "metadata": {}
        }
      ]
    },
    {
      "cell_type": "code",
      "metadata": {
        "id": "J84Cjfs5ypro",
        "colab": {
          "base_uri": "https://localhost:8080/"
        },
        "outputId": "08f79cc9-5550-4d94-c8a5-d508cff91ce2"
      },
      "source": [
        "#trabajo con episodeNumber\n",
        "#table(datos$episodeNumber)\n",
        "datos$episodeNumber[datos$episodeNumber == \"\"] <- NA\n",
        "datos$episodeNumber<-as.numeric(datos$episodeNumber)\n",
        "datos$episodeNumber[is.na(datos$episodeNumber)]= median(datos$episodeNumber,na.rm=TRUE)\n",
        "str(datos$episodeNumber)\n",
        "#datos$episodeNumber<-as.numeric(datos$episodeNumber)"
      ],
      "execution_count": null,
      "outputs": [
        {
          "output_type": "stream",
          "name": "stderr",
          "text": [
            "Warning message in eval(expr, envir, enclos):\n",
            "“NAs introduced by coercion”\n"
          ]
        },
        {
          "output_type": "stream",
          "name": "stdout",
          "text": [
            " num [1:900000] 5 9 8 8 9 12 25 8 8 8 ...\n"
          ]
        }
      ]
    },
    {
      "cell_type": "code",
      "metadata": {
        "id": "bIAeTqygEVII",
        "colab": {
          "base_uri": "https://localhost:8080/",
          "height": 35
        },
        "outputId": "a11b2218-2a52-4c13-ccb2-0a157da78a5d"
      },
      "source": [
        "mean(is.na(datos$episodeNumber))"
      ],
      "execution_count": null,
      "outputs": [
        {
          "output_type": "display_data",
          "data": {
            "text/plain": [
              "[1] 0"
            ],
            "text/latex": "0",
            "text/markdown": "0",
            "text/html": [
              "0"
            ]
          },
          "metadata": {}
        }
      ]
    },
    {
      "cell_type": "code",
      "metadata": {
        "id": "EVMsmWyP5mpU"
      },
      "source": [
        "#datos$episodeNumber<-as.numeric(datos$episodeNumber)\n",
        "#datos$episodeNumber[is.na(datos$episodeNumber)]= median(datos$episodeNumber,na.rm=TRUE)\n",
        "#str(datos$episodeNumber)"
      ],
      "execution_count": null,
      "outputs": []
    },
    {
      "cell_type": "code",
      "metadata": {
        "id": "3uA086O_wRUj",
        "colab": {
          "base_uri": "https://localhost:8080/"
        },
        "outputId": "894ca50d-a5be-4699-f2ec-c66d6d2af96d"
      },
      "source": [
        "#trabajo con startYear \n",
        "#table(datos$startYear)\n",
        "datos$startYear[datos$startYear == \"\\\\N\"] <- NA\n",
        "datos$startYear[datos$startYear ==\" \"]<- NA\n",
        "datos$startYear<-as.numeric(datos$startYear)\n",
        "datos$startYear[is.na(datos$startYear)]=median(datos$startYear,na.rm=TRUE)\n",
        "str(datos$startYear)"
      ],
      "execution_count": null,
      "outputs": [
        {
          "output_type": "stream",
          "name": "stdout",
          "text": [
            " num [1:900000] 2014 2020 2006 2016 2014 ...\n"
          ]
        }
      ]
    },
    {
      "cell_type": "code",
      "metadata": {
        "colab": {
          "base_uri": "https://localhost:8080/",
          "height": 35
        },
        "id": "QPIjJHrmEmWU",
        "outputId": "12b18d63-1ac6-4caf-fb66-e9787e7df3b1"
      },
      "source": [
        "mean(is.na(datos$startYear))"
      ],
      "execution_count": null,
      "outputs": [
        {
          "output_type": "display_data",
          "data": {
            "text/plain": [
              "[1] 0"
            ],
            "text/latex": "0",
            "text/markdown": "0",
            "text/html": [
              "0"
            ]
          },
          "metadata": {}
        }
      ]
    },
    {
      "cell_type": "code",
      "metadata": {
        "colab": {
          "base_uri": "https://localhost:8080/"
        },
        "id": "kuUq_Xvi47yP",
        "outputId": "9c23f0d1-db3b-41a3-f36f-cfe3ad3deb38"
      },
      "source": [
        "#datos$startYear<-as.numeric(datos$startYear)\n",
        "#datos$startYear[is.na(datos$starYear)]=median(datos$startYear,na.rm=TRUE)\n",
        "#str(datos$startYear)"
      ],
      "execution_count": null,
      "outputs": [
        {
          "output_type": "stream",
          "name": "stdout",
          "text": [
            " num [1:900000] 2014 2020 2006 2016 2014 ...\n"
          ]
        }
      ]
    },
    {
      "cell_type": "code",
      "metadata": {
        "id": "4cjZfF3t56cn"
      },
      "source": [
        "#trabajo con endYear\n",
        "#table(datos$endYear)\n",
        "datos$endYear[datos$endYear == \"\\\\N\"] <- NA\n",
        "datos$endYear[datos$endYear == \" \"] <- NA\n",
        "datos$endYear<-as.numeric(datos$endYear)\n",
        "datos$endYear <- ifelse(is.na(datos$endYear),2021,datos$endYear)"
      ],
      "execution_count": null,
      "outputs": []
    },
    {
      "cell_type": "code",
      "metadata": {
        "id": "DHz4rTBd5FXR"
      },
      "source": [
        "#datos$endYear<-as.numeric(datos$endYear)\n",
        "#datos$endYear <- ifelse(is.na(datos$endYear),2021,datos$endYear)"
      ],
      "execution_count": null,
      "outputs": []
    },
    {
      "cell_type": "code",
      "metadata": {
        "colab": {
          "base_uri": "https://localhost:8080/",
          "height": 35
        },
        "id": "HOt9vDUBD03B",
        "outputId": "be2bc292-ce3d-4e8d-e111-3203de0bfe44"
      },
      "source": [
        "mean(is.na(datos$endYear))"
      ],
      "execution_count": null,
      "outputs": [
        {
          "output_type": "display_data",
          "data": {
            "text/plain": [
              "[1] 0"
            ],
            "text/latex": "0",
            "text/markdown": "0",
            "text/html": [
              "0"
            ]
          },
          "metadata": {}
        }
      ]
    },
    {
      "cell_type": "code",
      "metadata": {
        "id": "ly-hHj7NwWIu"
      },
      "source": [
        "#trabajo con runtimeMinutes\n",
        "#table(datos$runtimeMinutes)\n",
        "datos$runtimeMinutes[datos$runtimeMinutes == \"\\\\N\"] <- NA"
      ],
      "execution_count": null,
      "outputs": []
    },
    {
      "cell_type": "code",
      "metadata": {
        "id": "Mr3jhgUe6VUu"
      },
      "source": [
        "datos$runtimeMinutes=as.numeric(datos$runtimeMinutes)\n",
        "datos$runtimeMinutes[is.na(datos$runtimeMinutes)]=median(datos$runtimeMinutes,na.rm=TRUE)\n",
        "str(datos$runtimeMinutes)"
      ],
      "execution_count": null,
      "outputs": []
    },
    {
      "cell_type": "code",
      "metadata": {
        "id": "4IUTrDQ2DwJC"
      },
      "source": [
        "mean(is.na(datos$runtimeMinutes))"
      ],
      "execution_count": null,
      "outputs": []
    },
    {
      "cell_type": "code",
      "metadata": {
        "id": "2If5iERIwYpr"
      },
      "source": [
        "#trabajo con title type\n",
        "datos$titleType[datos$titleType == \"\"] <- \"tvEpisode\"\n",
        "datos$titleType <- as.factor(datos$titleType)\n",
        "\n",
        "datos %>% group_by(titleType) %>%\n",
        "    summarise(rating=mean(averageRating),count=n()) %>% \n",
        "    arrange(desc(rating))\n"
      ],
      "execution_count": null,
      "outputs": []
    },
    {
      "cell_type": "code",
      "metadata": {
        "id": "yQDEZmcOwcb2"
      },
      "source": [
        "datos$tvEpisode <- ifelse(datos$titleType=='tvEpisode',1,0)\n",
        "datos$movie <- ifelse(datos$titleType=='movie',1,0)\n",
        "datos$video <- ifelse(datos$titleType=='video',1,0)\n",
        "datos$tvMovie <- ifelse(datos$titleType=='tvMovie',1,0)\n",
        "datos$short <- ifelse(datos$titleType=='short',1,0)\n",
        "datos$tvSeries <- ifelse(datos$titleType=='tvSeries',1,0)\n",
        "datos$tvShort <- ifelse(datos$titleType==\"tvShort\",1,0)\n",
        "datos$tvMiniSeries <- ifelse(datos$titleType==\"tvMiniSeries\",1,0)\n",
        "datos$tvSpecial <- ifelse(datos$titleType==\"tvSpecial\",1,0)\n",
        "datos$videogame <- ifelse(datos$titleType==\"videoGame\",1,0)"
      ],
      "execution_count": null,
      "outputs": []
    },
    {
      "cell_type": "code",
      "metadata": {
        "id": "RA3WjtHwwfOF"
      },
      "source": [
        "#trabajo con generos_x y separo en top y losers \n",
        "datos %>%\n",
        "    group_by(genres_x) %>%\n",
        "    summarise(cantidad=n(),avg_score=mean(averageRating)) %>%\n",
        "    filter(cantidad>10) %>% \n",
        "    arrange(desc(avg_score))\n",
        "\n",
        "gt <- datos %>% group_by(genres_x) %>%\n",
        "    summarise(avg_score=mean(averageRating),cantidad=n(),puntos=sum(numVotes)) %>%\n",
        "    arrange(desc(avg_score)) %>% \n",
        "    filter(puntos >4000, avg_score > 8)\n",
        "\n",
        "gl <- datos %>% group_by(genres_x) %>%\n",
        "    summarise(avg_score=mean(averageRating),cantidad=n(),puntos=sum(numVotes)) %>%\n",
        "    arrange(desc(avg_score)) %>% \n",
        "    filter(puntos > 4000, avg_score<= 4)\n",
        "\n",
        "nrow(gt)\n",
        "nrow(gl)"
      ],
      "execution_count": null,
      "outputs": []
    },
    {
      "cell_type": "code",
      "metadata": {
        "id": "ipgK6MnPdfXj"
      },
      "source": [
        "gt"
      ],
      "execution_count": null,
      "outputs": []
    },
    {
      "cell_type": "code",
      "metadata": {
        "id": "mDrLZ9oYeAjk"
      },
      "source": [
        "gl"
      ],
      "execution_count": null,
      "outputs": []
    },
    {
      "cell_type": "code",
      "metadata": {
        "id": "8tF0NZ6H4jQD"
      },
      "source": [
        "#datos$writers[datos$writers == \"\\\\N\"] <- \"nm1974030\"\t"
      ],
      "execution_count": null,
      "outputs": []
    },
    {
      "cell_type": "code",
      "metadata": {
        "id": "RRgibaF0whoN"
      },
      "source": [
        "#trabajo con writers y los divido en top y losers\n",
        "datos %>%\n",
        "    group_by(writers) %>%\n",
        "    summarise(cantidad=n(),avg_score=mean(averageRating)) %>%\n",
        "    filter(cantidad>10) %>% \n",
        "    arrange(desc(avg_score))\n",
        "\n",
        "wt <- datos %>% group_by(writers) %>%\n",
        "    summarise(avg_score=mean(averageRating),cantidad=n(), puntos=sum(numVotes)) %>%\n",
        "    arrange(desc(avg_score)) %>% \n",
        "    filter(puntos > 4000, avg_score>8)\n",
        "\n",
        "wl <- datos %>% group_by(writers) %>%\n",
        "    summarise(avg_score=mean(averageRating),cantidad=n(), puntos=sum(numVotes)) %>%\n",
        "    arrange(desc(avg_score)) %>% \n",
        "    filter(puntos > 4000, avg_score<=4)\n",
        "\n",
        "nrow(wt)\n",
        "nrow(wl)"
      ],
      "execution_count": null,
      "outputs": []
    },
    {
      "cell_type": "code",
      "metadata": {
        "id": "vXK89RdQ4mKC"
      },
      "source": [
        "#completo los NA de directors\n",
        "#datos$directors[datos$directors== \"\\\\N\"] <- \"nm1475126\""
      ],
      "execution_count": null,
      "outputs": []
    },
    {
      "cell_type": "code",
      "metadata": {
        "id": "rS6MI9hwwk3j"
      },
      "source": [
        "# trabajo con directors y los divido en top y losers\n",
        "datos %>%\n",
        "    group_by(directors) %>%\n",
        "    summarise(cantidad=n(),avg_score=mean(averageRating)) %>%\n",
        "    filter (cantidad > 10) %>% \n",
        "    arrange(desc(avg_score))\n",
        "\n",
        "dt <- datos %>% group_by(directors) %>%\n",
        "    summarise(avg_score=mean(averageRating),cantidad=n(), puntos=sum(numVotes)) %>%\n",
        "    arrange(desc(avg_score)) %>% \n",
        "    filter(puntos >4000, avg_score > 8)\n",
        "\n",
        "dl <- datos %>% group_by(directors) %>%\n",
        "    summarise(avg_score=mean(averageRating),cantidad=n(), puntos=sum(numVotes)) %>%\n",
        "    arrange(desc(avg_score)) %>% \n",
        "    filter(puntos > 4000, avg_score<=4)\n",
        "\n",
        "nrow(dt)\n",
        "nrow(dl)"
      ],
      "execution_count": null,
      "outputs": []
    },
    {
      "cell_type": "code",
      "metadata": {
        "id": "M5wuEfM1OF1y"
      },
      "source": [
        "datos %>%\n",
        "    group_by(production_companies) %>%\n",
        "    summarise(cantidad=n(),avg_score=mean(averageRating)) %>%\n",
        "    filter(cantidad>10) %>% \n",
        "    arrange(desc(avg_score))\n",
        "\n",
        "prt <- datos %>% group_by(production_companies) %>%\n",
        "    summarise(avg_score=mean(averageRating),cantidad=n(), puntos=sum(numVotes)) %>%\n",
        "    arrange(desc(avg_score)) %>% \n",
        "    filter(puntos > 4000, avg_score>8)\n",
        "\n",
        "prl <- datos %>% group_by(production_companies) %>%\n",
        "    summarise(avg_score=mean(averageRating),cantidad=n(), puntos=sum(numVotes)) %>%\n",
        "    arrange(desc(avg_score)) %>% \n",
        "    filter(puntos > 4000, avg_score<=4)\n",
        "\n",
        "nrow(prt)\n",
        "nrow(prl)"
      ],
      "execution_count": null,
      "outputs": []
    },
    {
      "cell_type": "code",
      "metadata": {
        "id": "emAB7clPO9zo"
      },
      "source": [
        "datos %>%\n",
        "    group_by(production_countries) %>%\n",
        "    summarise(cantidad=n(),avg_score=mean(averageRating)) %>%\n",
        "    filter(cantidad>10) %>% \n",
        "    arrange(desc(avg_score))\n",
        "\n",
        "ct <- datos %>% group_by(production_countries) %>%\n",
        "    summarise(avg_score=mean(averageRating),cantidad=n(), puntos=sum(numVotes)) %>%\n",
        "    arrange(desc(avg_score)) %>% \n",
        "    filter(puntos > 4000, avg_score>8)\n",
        "\n",
        "cl <- datos %>% group_by(production_countries) %>%\n",
        "    summarise(avg_score=mean(averageRating),cantidad=n(), puntos=sum(numVotes)) %>%\n",
        "    arrange(desc(avg_score)) %>% \n",
        "    filter(puntos > 4000, avg_score<=4)\n",
        "\n",
        "nrow(ct)\n",
        "nrow(cl)"
      ],
      "execution_count": null,
      "outputs": []
    },
    {
      "cell_type": "code",
      "metadata": {
        "id": "uH8nDfi4wnvr"
      },
      "source": [
        "#duracion total de los proyectos\n",
        "datos$duracion = (datos$endYear)-(datos$startYear)\n",
        "datos$duracion <-as.numeric(datos$duracion)"
      ],
      "execution_count": null,
      "outputs": []
    },
    {
      "cell_type": "code",
      "metadata": {
        "id": "XhRcR1_kwqo9"
      },
      "source": [
        "datos$directortop <- ifelse(datos$directors %in% dt$directors,1,0)\n",
        "datos$directorloser <- ifelse(datos$directors %in% dl$directors,1,0)\n",
        "datos$writertop <- ifelse(datos$writers %in% wt$writers,1,0)\n",
        "datos$writerloser <- ifelse(datos$writers %in% wl$writers,1,0)\n",
        "datos$generotop <- ifelse(datos$genres_x %in% gt$genres_x,1,0)\n",
        "datos$generoloser <- ifelse(datos$genres_x %in% gl$genres_x,1,0)\n",
        "datos$companietop <- ifelse(datos$production_companies %in% prt$production_companies,1,0)\n",
        "datos$companieloser <- ifelse(datos$production_companies %in% prl$production_companies,1,0)\n",
        "datos$paistop <- ifelse(datos$production_countries %in% ct$production_countries,1,0)\n",
        "datos$paisloser <-ifelse(datos$production_countries %in% cl$production_countries,1,0)\n",
        "sum(datos$directortop)\n",
        "sum(datos$directorloser)\n",
        "sum(datos$writertop)\n",
        "sum(datos$writerloser)\n",
        "sum(datos$generotop)\n",
        "sum(datos$generoloser)\n",
        "sum(datos$paistop)\n",
        "sum(datos$paisloser)\n",
        "sum(datos$companieloser)\n",
        "sum(datos$companietop)"
      ],
      "execution_count": null,
      "outputs": []
    },
    {
      "cell_type": "code",
      "metadata": {
        "id": "1buK0AtFwt1U"
      },
      "source": [
        "#datos$startYear=NULL\n",
        "datos$language=NULL\n",
        "datos$runtime=NULL\n",
        "datos$budget=NULL\n",
        "datos$popularity=NULL\n",
        "datos$revenue=NULL\n",
        "#datos$isOriginalTitle=NULL\n",
        "datos$overview=NULL\n",
        "datos$production_companies=NULL\n",
        "datos$production_countries=NULL\n",
        "datos$release_date=NULL\n",
        "datos$genres_y=NULL\n",
        "datos$original_language=NULL\n",
        "datos$attributes=NULL\n",
        "#datos$runtimeMinutes=NULL \n",
        "datos$status=NULL\n",
        "datos$video=NULL\n",
        "datos$tagline=NULL\n",
        "datos$adult=NULL\n",
        "datos$types=NULL\n",
        "#datos$ordering=NULL\n",
        "datos$endYear=NULL\n",
        "#datos$directors=NULL\n",
        "#datos$writers=NULL\n",
        "#datos$seasonNumber=NULL\n",
        "#datos$episodeNumber=NULL\n",
        "#datos$isAdult=NULL\n",
        "#datos$genres_x=NULL"
      ],
      "execution_count": null,
      "outputs": []
    },
    {
      "cell_type": "code",
      "metadata": {
        "id": "dwa4XJCeDI8z"
      },
      "source": [
        "d=str(datos)"
      ],
      "execution_count": null,
      "outputs": []
    },
    {
      "cell_type": "code",
      "metadata": {
        "id": "-uvitSJM-CKW"
      },
      "source": [
        "write.csv(d,\"BASE_DATOS1.csv\")"
      ],
      "execution_count": null,
      "outputs": []
    },
    {
      "cell_type": "code",
      "metadata": {
        "id": "omNxKCFEw0qB"
      },
      "source": [
        "#limpieza de base resultados\n",
        "resultados$popularity[is.na(resultados$popularity)]=0\n",
        "resultados$runtime[is.na(resultados$runtime)]=0\n",
        "resultados$budget[is.na(resultados$budget)]=0\n",
        "resultados$revenue[is.na(resultados$revenue)]=0"
      ],
      "execution_count": null,
      "outputs": []
    },
    {
      "cell_type": "code",
      "metadata": {
        "id": "SsRx6GQ78a_a"
      },
      "source": [
        "table(resultados$runtimeMinutes)\n",
        "resultados$runtimeMinutes[resultados$runtimeMinutes == \"\"] <- \"\\\\N\"\n",
        "resultados$runtimeMinutes=as.numeric(resultados$runtimeMinutes)\n",
        "resultados$runtimeMinutes[is.na(resultados$runtimeMinutes)]=median(resultados$runtimeMinutes,na.rm=TRUE)"
      ],
      "execution_count": null,
      "outputs": []
    },
    {
      "cell_type": "code",
      "metadata": {
        "id": "8uSTzPZ3DcuI"
      },
      "source": [
        "mean(is.na(resultados$runtimeMinutes))"
      ],
      "execution_count": null,
      "outputs": []
    },
    {
      "cell_type": "code",
      "metadata": {
        "id": "RxFveyxR8XD6"
      },
      "source": [
        "#table(resultados$startYear)\n",
        "resultados$startYear[resultados$startYear == \"\\\\N\"] <- NA\n",
        "resultados$startYear[resultados$startYear == \" \"] <- NA\n",
        "resultados$startYear<-as.numeric(resultados$startYear)\n",
        "resultados$startYear[is.na(resultados$startYear)]=median(resultados$startYear,na.rm=TRUE)\n"
      ],
      "execution_count": null,
      "outputs": []
    },
    {
      "cell_type": "code",
      "metadata": {
        "id": "O1Q1LtKsTfV6"
      },
      "source": [
        "#resultados$startYear<-as.numeric(resultados$startYear)"
      ],
      "execution_count": null,
      "outputs": []
    },
    {
      "cell_type": "code",
      "metadata": {
        "colab": {
          "base_uri": "https://localhost:8080/",
          "height": 35
        },
        "id": "Wx0SqM0PCQgd",
        "outputId": "2c7facda-bb4e-42e2-e057-8bf1044a3a3b"
      },
      "source": [
        "mean(is.na(resultados$startYear))"
      ],
      "execution_count": null,
      "outputs": [
        {
          "output_type": "display_data",
          "data": {
            "text/plain": [
              "[1] 0"
            ],
            "text/latex": "0",
            "text/markdown": "0",
            "text/html": [
              "0"
            ]
          },
          "metadata": {}
        }
      ]
    },
    {
      "cell_type": "code",
      "metadata": {
        "id": "VDf5REYy8KMq"
      },
      "source": [
        "resultados$isOriginalTitle <- ifelse(is.na(resultados$isOriginalTitle),1,resultados$isOriginalTitle)\n",
        "str(resultados$isOriginalTitle)\n",
        "resultados$ordering[is.na(resultados$ordering)]=mean(resultados$ordering,na.rm=TRUE)\n",
        "str(resultados$ordering)"
      ],
      "execution_count": null,
      "outputs": []
    },
    {
      "cell_type": "code",
      "metadata": {
        "id": "KhinQTOx8Rxr"
      },
      "source": [
        "resultados$isAdult[resultados$isAdult == \"2014\"] <- \"0\"\n",
        "resultados$isAdult <- ifelse(is.na(resultados$isAdult),0,resultados$isAdult)\n",
        "resultados$isAdult <- as.factor(resultados$isAdult)\n",
        "str(resultados$isAdult)\n"
      ],
      "execution_count": null,
      "outputs": []
    },
    {
      "cell_type": "code",
      "metadata": {
        "id": "O2hjx90Dwgpn"
      },
      "source": [
        "#trabajo con endYear\n",
        "#table(resultados$endYear)\n",
        "resultados$endYear[resultados$endYear == \"\\\\N\"] <- NA\n",
        "resultados$endYear[resultados$endYear == \" \"] <- NA\n",
        "resultados$endYear<-as.numeric(resultados$endYear)\n",
        "resultados$endYear <- ifelse(is.na(resultados$endYear),2021,resultados$endYear)\n"
      ],
      "execution_count": null,
      "outputs": []
    },
    {
      "cell_type": "code",
      "metadata": {
        "id": "lHfGS1qKwqyZ",
        "colab": {
          "base_uri": "https://localhost:8080/",
          "height": 35
        },
        "outputId": "aa558998-631f-43f6-e98a-04f4bc6fdc8b"
      },
      "source": [
        "mean(is.na(resultados$endYear))"
      ],
      "execution_count": null,
      "outputs": [
        {
          "output_type": "display_data",
          "data": {
            "text/plain": [
              "[1] 0"
            ],
            "text/latex": "0",
            "text/markdown": "0",
            "text/html": [
              "0"
            ]
          },
          "metadata": {}
        }
      ]
    },
    {
      "cell_type": "code",
      "metadata": {
        "id": "4043Ob3jU6Jx"
      },
      "source": [
        "#trabajo con episodeNumber\n",
        "#table(resultados$episodeNumber)\n",
        "resultados$episodeNumber[resultados$episodeNumber == \"\"] <- NA\n",
        "resultados$episodeNumber<-as.numeric(resultados$episodeNumber)\n",
        "resultados$episodeNumber[is.na(resultados$episodeNumber)]= median(resultados$episodeNumber,na.rm=TRUE)"
      ],
      "execution_count": null,
      "outputs": []
    },
    {
      "cell_type": "code",
      "metadata": {
        "id": "k6Os9l8NVEve"
      },
      "source": [
        "mean(is.na(resultados$episodeNumber))"
      ],
      "execution_count": null,
      "outputs": []
    },
    {
      "cell_type": "code",
      "metadata": {
        "id": "8ae8mN-8WQl3"
      },
      "source": [
        "#trabajo con seasonNumber\n",
        "#table(resultados$seasonNumber)\n",
        "resultados$seasonNumber[resultados$seasonNumber == \"\"] <- NA\n",
        "resultados$seasonNumber=as.numeric(resultados$seasonNumber)\n",
        "resultados$seasonNumber[is.na(resultados$seasonNumber)]=median(resultados$seasonNumber,na.rm=TRUE)\n",
        "str(datos$seasonNumber)"
      ],
      "execution_count": null,
      "outputs": []
    },
    {
      "cell_type": "code",
      "metadata": {
        "id": "scwkUevpWbsD"
      },
      "source": [
        "mean(is.na(resultados$seasonNumber))"
      ],
      "execution_count": null,
      "outputs": []
    },
    {
      "cell_type": "code",
      "metadata": {
        "id": "qQltKnzoGfGv"
      },
      "source": [
        "#completo los NA de directors\n",
        "resultados$directors[resultados$directors== \"\\\\N\"] <- \"nm1475126\""
      ],
      "execution_count": null,
      "outputs": []
    },
    {
      "cell_type": "code",
      "metadata": {
        "id": "4H2HQx55GnzM"
      },
      "source": [
        "#completo los NA de writers\n",
        "resultados$writers[resultados$writers == \"\\\\N\"] <- \"nm1974030\""
      ],
      "execution_count": null,
      "outputs": []
    },
    {
      "cell_type": "code",
      "metadata": {
        "id": "8uQQWooB9olz"
      },
      "source": [
        "#trabajo con title type\n",
        "resultados$titleType[resultados$titleType == \"\"] <- \"tvEpisode\"\n",
        "resultados$titleType <- as.factor(resultados$titleType)\n",
        "\n",
        "datos %>% group_by(titleType) %>%\n",
        "    summarise(rating=mean(averageRating),count=n()) %>% \n",
        "    arrange(desc(rating))"
      ],
      "execution_count": null,
      "outputs": []
    },
    {
      "cell_type": "code",
      "metadata": {
        "id": "wNxwcszm9pd0"
      },
      "source": [
        "resultados$tvEpisode <- ifelse(resultados$titleType=='tvEpisode',1,0)\n",
        "resultados$movie <- ifelse(resultados$titleType=='movie',1,0)\n",
        "resultados$video <- ifelse(resultados$titleType=='video',1,0)\n",
        "resultados$tvMovie <- ifelse(resultados$titleType=='tvMovie',1,0)\n",
        "resultados$short <- ifelse(resultados$titleType=='short',1,0)\n",
        "resultados$tvSeries <- ifelse(resultados$titleType=='tvSeries',1,0)\n",
        "resultados$tvShort <- ifelse(resultados$titleType==\"tvShorts\",1,0)\n",
        "resultados$tvMiniSeries <- ifelse(resultados$titleType==\"tvMiniSeries\",1,0)\n",
        "resultados$tvSpecial <- ifelse(resultados$titleType==\"tvSpecial\",1,0)\n",
        "resultados$videogame <- ifelse(resultados$titleType==\"videogame\",1,0)"
      ],
      "execution_count": null,
      "outputs": []
    },
    {
      "cell_type": "code",
      "metadata": {
        "id": "STvBZDy46ygw"
      },
      "source": [
        "#directores-writers-generos\n",
        "resultados$directortop <- ifelse(resultados$directors %in% dt$directors,1,0)\n",
        "resultados$directorloser <- ifelse(resultados$directors %in% dl$directors,1,0)\n",
        "resultados$writertop <- ifelse(resultados$writers %in% wt$writers,1,0)\n",
        "resultados$writerloser <- ifelse(resultados$writers %in% wl$writers,1,0)\n",
        "resultados$generotop <- ifelse(resultados$genres_x %in% gt$genres_x,1,0)\n",
        "resultados$generoloser <- ifelse(resultados$genres_x %in% gl$genres_x,1,0)\n",
        "resultados$companietop <- ifelse(resultados$production_companies %in% prt$production_companies,1,0)\n",
        "resultados$companieloser <- ifelse(resultados$production_companies %in% prl$production_companies,1,0)\n",
        "resultados$paistop <- ifelse(resultados$production_countries %in% ct$production_countries,1,0)\n",
        "resultados$paisloser <-ifelse(resultados$production_countries %in% cl$production_countries,1,0)\n",
        "sum(resultados$directortop)\n",
        "sum(resultados$directorloser)\n",
        "sum(resultados$writertop)\n",
        "sum(resultados$writerloser)\n",
        "sum(resultados$generotop)\n",
        "sum(resultados$generoloser)\n",
        "sum(resultados$companieloser)\n",
        "sum(resultados$companietop)\n",
        "sum(resultados$paistop)\n",
        "sum(resultados$paisloser)"
      ],
      "execution_count": null,
      "outputs": []
    },
    {
      "cell_type": "code",
      "metadata": {
        "id": "7sUFaKdprIRx",
        "colab": {
          "base_uri": "https://localhost:8080/"
        },
        "outputId": "3006b34f-ffd3-4dac-ac44-e1e5167506d9"
      },
      "source": [
        "resultados$duracion=(resultados$endYear)-(resultados$startYear)\n",
        "str(resultados$duracion)"
      ],
      "execution_count": null,
      "outputs": [
        {
          "output_type": "stream",
          "name": "stdout",
          "text": [
            " num [1:321932] 22 14 50 20 7 69 2 11 10 11 ...\n"
          ]
        }
      ]
    },
    {
      "cell_type": "code",
      "metadata": {
        "id": "-_UqUMRl5CoP"
      },
      "source": [
        "#resultados$startYear=NULL\n",
        "resultados$language=NULL\n",
        "resultados$runtime=NULL\n",
        "resultados$budget=NULL\n",
        "resultados$popularity=NULL\n",
        "resultados$revenue=NULL\n",
        "#resultados$isOriginalTitle=NULL\n",
        "resultados$overview=NULL\n",
        "resultados$production_companies=NULL\n",
        "resultados$production_countries=NULL\n",
        "resultados$release_date=NULL\n",
        "resultados$genres_y=NULL\n",
        "resultados$original_language=NULL\n",
        "resultados$attributes=NULL\n",
        "#resultados$runtimeMinutes=NULL \n",
        "resultados$status=NULL\n",
        "resultados$video=NULL\n",
        "resultados$tagline=NULL\n",
        "resultados$adult=NULL\n",
        "resultados$types=NULL\n",
        "#resultados$ordering=NULL\n",
        "#resultados$endYear=NULL\n",
        "#resultados$directors=NULL\n",
        "#resultados$writers=NULL\n",
        "#resultados$seasonNumber=NULL\n",
        "#resultados$episodeNumber=NULL\n",
        "#resultados$isAdult=NULL\n",
        "#resultados$genres_x=NULL"
      ],
      "execution_count": null,
      "outputs": []
    },
    {
      "cell_type": "code",
      "metadata": {
        "id": "LuqjT_CHGUbu"
      },
      "source": [
        "r=str(resultados)"
      ],
      "execution_count": null,
      "outputs": []
    },
    {
      "cell_type": "code",
      "metadata": {
        "id": "rVxBLjqY-r0y"
      },
      "source": [
        "write.csv(r,\"BASE_RESULTADOS.csv\")"
      ],
      "execution_count": null,
      "outputs": []
    },
    {
      "cell_type": "code",
      "metadata": {
        "id": "d3VwgDt0w5lY"
      },
      "source": [
        "d2=datos"
      ],
      "execution_count": null,
      "outputs": []
    },
    {
      "cell_type": "code",
      "metadata": {
        "id": "nrWH-xOaCxNp"
      },
      "source": [
        "r2=resultados"
      ],
      "execution_count": null,
      "outputs": []
    },
    {
      "cell_type": "code",
      "metadata": {
        "id": "8Qj5y3g_uymE"
      },
      "source": [
        "#hago la partición y me voy a python a correr los modelos r no me deja \n",
        "library(caret)\n",
        "set.seed(123);particion=createDataPartition(y=d2$averageRating,p=0.75,list=FALSE)\n",
        "entrenar=d2[particion,]\n",
        "test=d2[-particion,]"
      ],
      "execution_count": null,
      "outputs": []
    },
    {
      "cell_type": "code",
      "metadata": {
        "id": "3vfCMPHobRxa"
      },
      "source": [
        "#regresion <- lm(averageRating ~., data = entrenar)\n",
        "#summary(regresion)"
      ],
      "execution_count": null,
      "outputs": []
    },
    {
      "cell_type": "code",
      "metadata": {
        "id": "Ga8DT0JPsNO4"
      },
      "source": [
        "#genero base train para python\n",
        "write.csv(entrenar,\"ENTRENAR1.csv\")"
      ],
      "execution_count": null,
      "outputs": []
    },
    {
      "cell_type": "code",
      "metadata": {
        "id": "1YLlKH_NAuz0"
      },
      "source": [
        "#genero base test para python\n",
        "write.csv(test,\"TEST1.csv\")"
      ],
      "execution_count": null,
      "outputs": []
    },
    {
      "cell_type": "code",
      "metadata": {
        "id": "Mqs7ch2ZAyO2"
      },
      "source": [
        "#llamo base resultado limpia para python \n",
        "write.csv(r2,\"RESULTADO1.csv\")"
      ],
      "execution_count": null,
      "outputs": []
    }
  ]
}